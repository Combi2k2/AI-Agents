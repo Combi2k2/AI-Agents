{
 "cells": [
  {
   "cell_type": "code",
   "execution_count": null,
   "metadata": {},
   "outputs": [],
   "source": [
    "from typing import Literal\n",
    "from dotenv import load_dotenv\n",
    "from langchain_google_genai import ChatGoogleGenerativeAI\n",
    "from langgraph.graph import MessagesState, StateGraph\n",
    "from langgraph.prebuilt import ToolNode\n",
    "\n",
    "from composio_langgraph import App, ComposioToolSet"
   ]
  },
  {
   "cell_type": "code",
   "execution_count": 2,
   "metadata": {},
   "outputs": [
    {
     "data": {
      "text/plain": [
       "True"
      ]
     },
     "execution_count": 2,
     "metadata": {},
     "output_type": "execute_result"
    }
   ],
   "source": [
    "load_dotenv()"
   ]
  },
  {
   "cell_type": "code",
   "execution_count": 3,
   "metadata": {},
   "outputs": [
    {
     "name": "stderr",
     "output_type": "stream",
     "text": [
      "[2024-11-28 02:48:11,006][INFO] Logging is set to INFO, use `logging_level` argument or `COMPOSIO_LOGGING_LEVEL` change this\n",
      "/home/combi2k2/miniconda3/envs/AI-Agent/lib/python3.13/site-packages/composio/client/collections.py:1131: UserWarning: Using all the actions of an app is not recommended. Please use tags to filter actions or provide specific actions. We just pass the important actions to the agent, but this is not meant to be used in production. Check out https://docs.composio.dev/sdk/python/actions for more information.\n",
      "  warnings.warn(\n"
     ]
    }
   ],
   "source": [
    "# Initialize the toolset for GitHub\n",
    "toolset = ComposioToolSet()\n",
    "tools = toolset.get_tools(apps=[App.GOOGLECALENDAR])\n",
    "tool_node = ToolNode(tools)"
   ]
  },
  {
   "cell_type": "code",
   "execution_count": 4,
   "metadata": {},
   "outputs": [],
   "source": [
    "model = ChatGoogleGenerativeAI(\n",
    "    model=\"gemini-1.5-flash\",\n",
    "    temperature=0,\n",
    "    max_tokens=None,\n",
    "    timeout=None,\n",
    "    max_retries=10,\n",
    "    # other params...\n",
    ")\n",
    "model_with_tools = model.bind_tools(tools)"
   ]
  },
  {
   "cell_type": "code",
   "execution_count": 5,
   "metadata": {},
   "outputs": [],
   "source": [
    "def call_model(state: MessagesState):\n",
    "    messages = state[\"messages\"]\n",
    "    response = model_with_tools.invoke(messages)\n",
    "    return {\"messages\": [response]}\n",
    "\n",
    "def should_continue(state: MessagesState) -> Literal[\"tools\", \"__end__\"]:\n",
    "    messages = state[\"messages\"]\n",
    "    last_message = messages[-1]\n",
    "    if last_message.tool_calls:\n",
    "        return \"tools\"\n",
    "    return \"__end__\""
   ]
  },
  {
   "cell_type": "code",
   "execution_count": 6,
   "metadata": {},
   "outputs": [],
   "source": [
    "workflow = StateGraph(MessagesState)"
   ]
  },
  {
   "cell_type": "code",
   "execution_count": 7,
   "metadata": {},
   "outputs": [
    {
     "data": {
      "text/plain": [
       "<langgraph.graph.state.StateGraph at 0x7232bd535e80>"
      ]
     },
     "execution_count": 7,
     "metadata": {},
     "output_type": "execute_result"
    }
   ],
   "source": [
    "# Define the two nodes we will cycle between\n",
    "workflow.add_node(\"agent\", call_model)\n",
    "workflow.add_node(\"tools\", tool_node)\n",
    "\n",
    "workflow.add_edge(\"__start__\", \"agent\")\n",
    "workflow.add_conditional_edges(\"agent\", should_continue)\n",
    "workflow.add_edge(\"tools\", \"agent\")"
   ]
  },
  {
   "cell_type": "code",
   "execution_count": 8,
   "metadata": {},
   "outputs": [],
   "source": [
    "app = workflow.compile()"
   ]
  },
  {
   "cell_type": "code",
   "execution_count": 9,
   "metadata": {},
   "outputs": [],
   "source": [
    "SYSTEM_PROMPT = \"\"\"\n",
    "    You are an AI agent responsible for taking actions on Google Calendar on users' behalf. \n",
    "    You need to take action on Calendar using Google Calendar APIs. Use correct tools to run APIs from the given tool-set.\n",
    "\"\"\""
   ]
  },
  {
   "cell_type": "code",
   "execution_count": 11,
   "metadata": {},
   "outputs": [],
   "source": [
    "from datetime import datetime\n",
    "\n",
    "# Retrieve the current date and time\n",
    "date = datetime.today().strftime(\"%Y-%m-%d\")\n",
    "timezone = datetime.now().astimezone().tzinfo"
   ]
  },
  {
   "cell_type": "code",
   "execution_count": 12,
   "metadata": {},
   "outputs": [],
   "source": [
    "query = f\"\"\"\n",
    "Book slots according to the folloing todo list:\n",
    "    1PM - 3PM -> Code,\n",
    "    5PM - 7PM -> Meeting,\n",
    "    9AM - 12AM -> Learn something,\n",
    "    8PM - 10PM -> Game\n",
    "Label them with the work provided to be done in that time period. Schedule it for today. Today's date is {date} (it's in YYYY-MM-DD format) and make the timezone be {timezone}.\",\n",
    "\"\"\""
   ]
  },
  {
   "cell_type": "code",
   "execution_count": 13,
   "metadata": {},
   "outputs": [
    {
     "name": "stdout",
     "output_type": "stream",
     "text": [
      "================================\u001b[1m Human Message \u001b[0m=================================\n",
      "\n",
      "\n",
      "Book slots according to the folloing todo list:\n",
      "    1PM - 3PM -> Code,\n",
      "    5PM - 7PM -> Meeting,\n",
      "    9AM - 12AM -> Learn something,\n",
      "    8PM - 10PM -> Game\n",
      "Label them with the work provided to be done in that time period. Schedule it for today. Today's date is 2024-11-28 (it's in YYYY-MM-DD format) and make the timezone be +07.\",\n",
      "\n"
     ]
    },
    {
     "name": "stderr",
     "output_type": "stream",
     "text": [
      "[2024-11-28 02:55:19,134][INFO] Executing `GOOGLECALENDAR_CREATE_EVENT` with params={'summary': 'Code', 'start_datetime': '2024-11-28T13:00:00+07:00', 'event_duration': '2h'} and metadata={} connected_account_id=None\n",
      "[2024-11-28 02:55:19,148][INFO] Executing `GOOGLECALENDAR_CREATE_EVENT` with params={'summary': 'Game', 'start_datetime': '2024-11-28T20:00:00+07:00', 'event_duration': '2h'} and metadata={} connected_account_id=None\n",
      "[2024-11-28 02:55:19,168][INFO] Executing `GOOGLECALENDAR_CREATE_EVENT` with params={'summary': 'Learn something', 'start_datetime': '2024-11-28T09:00:00+07:00', 'event_duration': '3h'} and metadata={} connected_account_id=None\n",
      "[2024-11-28 02:55:19,183][INFO] Executing `GOOGLECALENDAR_CREATE_EVENT` with params={'summary': 'Meeting', 'start_datetime': '2024-11-28T17:00:00+07:00', 'event_duration': '2h'} and metadata={} connected_account_id=None\n"
     ]
    },
    {
     "name": "stdout",
     "output_type": "stream",
     "text": [
      "==================================\u001b[1m Ai Message \u001b[0m==================================\n",
      "Tool Calls:\n",
      "  GOOGLECALENDAR_CREATE_EVENT (e1d380ef-fac7-4a0e-81e3-9bcdf9d79e29)\n",
      " Call ID: e1d380ef-fac7-4a0e-81e3-9bcdf9d79e29\n",
      "  Args:\n",
      "    event_duration: 2h\n",
      "    start_datetime: 2024-11-28T13:00:00+07:00\n",
      "    summary: Code\n",
      "  GOOGLECALENDAR_CREATE_EVENT (8bb5b101-660b-4dbd-afb6-a9b889f41a30)\n",
      " Call ID: 8bb5b101-660b-4dbd-afb6-a9b889f41a30\n",
      "  Args:\n",
      "    event_duration: 2h\n",
      "    summary: Meeting\n",
      "    start_datetime: 2024-11-28T17:00:00+07:00\n",
      "  GOOGLECALENDAR_CREATE_EVENT (fb7e2413-e9ee-435c-a9a9-11c69a245ddd)\n",
      " Call ID: fb7e2413-e9ee-435c-a9a9-11c69a245ddd\n",
      "  Args:\n",
      "    event_duration: 3h\n",
      "    summary: Learn something\n",
      "    start_datetime: 2024-11-28T09:00:00+07:00\n",
      "  GOOGLECALENDAR_CREATE_EVENT (19cd9e8e-1013-425f-aac7-3ae3dc93cafd)\n",
      " Call ID: 19cd9e8e-1013-425f-aac7-3ae3dc93cafd\n",
      "  Args:\n",
      "    event_duration: 2h\n",
      "    summary: Game\n",
      "    start_datetime: 2024-11-28T20:00:00+07:00\n"
     ]
    },
    {
     "name": "stderr",
     "output_type": "stream",
     "text": [
      "[2024-11-28 02:55:22,323][INFO] Got response={'successfull': True, 'data': {'response_data': {'kind': 'calendar#event', 'etag': '\"3465474643802000\"', 'id': 's42mb6gsheqadl72omputmrle8', 'status': 'confirmed', 'htmlLink': 'https://www.google.com/calendar/event?eid=czQybWI2Z3NoZXFhZGw3Mm9t...\n",
      "[2024-11-28 02:55:22,528][INFO] Got response={'successfull': True, 'data': {'response_data': {'kind': 'calendar#event', 'etag': '\"3465474644314000\"', 'id': 'hpjlv7kahlfe741gpdrao5nct8', 'status': 'confirmed', 'htmlLink': 'https://www.google.com/calendar/event?eid=aHBqbHY3a2FobGZlNzQxZ3Bk...\n",
      "[2024-11-28 02:55:22,740][INFO] Got response={'successfull': True, 'data': {'response_data': {'kind': 'calendar#event', 'etag': '\"3465474644742000\"', 'id': 'hn44c863oas73kigj45qc5gups', 'status': 'confirmed', 'htmlLink': 'https://www.google.com/calendar/event?eid=aG40NGM4NjNvYXM3M2tpZ2o0...\n",
      "[2024-11-28 02:56:22,340][INFO] Got response={'successfull': True, 'data': {'response_data': {'kind': 'calendar#event', 'etag': '\"3465474764038000\"', 'id': 'gtt3kplh6aj00evr0to0qi27jo', 'status': 'confirmed', 'htmlLink': 'https://www.google.com/calendar/event?eid=Z3R0M2twbGg2YWowMGV2cjB0...\n"
     ]
    },
    {
     "name": "stdout",
     "output_type": "stream",
     "text": [
      "=================================\u001b[1m Tool Message \u001b[0m=================================\n",
      "Name: GOOGLECALENDAR_CREATE_EVENT\n",
      "\n",
      "{\"successfull\": true, \"data\": {\"response_data\": {\"kind\": \"calendar#event\", \"etag\": \"\\\"3465474643802000\\\"\", \"id\": \"s42mb6gsheqadl72omputmrle8\", \"status\": \"confirmed\", \"htmlLink\": \"https://www.google.com/calendar/event?eid=czQybWI2Z3NoZXFhZGw3Mm9tcHV0bXJsZTggY29tYmk5MTQ0QG0\", \"created\": \"2024-11-27T19:55:21.000Z\", \"updated\": \"2024-11-27T19:55:21.901Z\", \"summary\": \"Game\", \"creator\": {\"email\": \"combi9144@gmail.com\", \"self\": true}, \"organizer\": {\"email\": \"combi9144@gmail.com\", \"self\": true}, \"start\": {\"dateTime\": \"2024-11-28T20:00:00+07:00\", \"timeZone\": \"Asia/Ho_Chi_Minh\"}, \"end\": {\"dateTime\": \"2024-11-28T22:00:00+07:00\", \"timeZone\": \"Asia/Ho_Chi_Minh\"}, \"iCalUID\": \"s42mb6gsheqadl72omputmrle8@google.com\", \"sequence\": 0, \"reminders\": {\"useDefault\": true}, \"eventType\": \"default\"}}, \"error\": null}\n",
      "==================================\u001b[1m Ai Message \u001b[0m==================================\n",
      "\n",
      "OK. I've booked the following slots for you on 2024-11-28 in the +07 timezone:\n",
      "\n",
      "* 1 PM - 3 PM: Code\n",
      "* 5 PM - 7 PM: Meeting\n",
      "* 9 AM - 12 PM: Learn something\n",
      "* 8 PM - 10 PM: Game\n"
     ]
    }
   ],
   "source": [
    "for chunk in app.stream({\"messages\": [\n",
    "    (\"system\", SYSTEM_PROMPT),\n",
    "    (\"human\", query)\n",
    "]}, stream_mode=\"values\"):\n",
    "        chunk[\"messages\"][-1].pretty_print()"
   ]
  }
 ],
 "metadata": {
  "kernelspec": {
   "display_name": "AI-Agent",
   "language": "python",
   "name": "python3"
  },
  "language_info": {
   "codemirror_mode": {
    "name": "ipython",
    "version": 3
   },
   "file_extension": ".py",
   "mimetype": "text/x-python",
   "name": "python",
   "nbconvert_exporter": "python",
   "pygments_lexer": "ipython3",
   "version": "3.13.0"
  }
 },
 "nbformat": 4,
 "nbformat_minor": 2
}
